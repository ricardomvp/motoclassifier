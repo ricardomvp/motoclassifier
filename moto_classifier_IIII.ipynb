{
  "nbformat": 4,
  "nbformat_minor": 0,
  "metadata": {
    "colab": {
      "name": "moto_classifier_IIII.ipynb",
      "provenance": [],
      "collapsed_sections": [],
      "mount_file_id": "1D9YCY4B_ChGQubFP3B2-zh4MhMvuWl3G",
      "authorship_tag": "ABX9TyPQB+Ozy6kcDMRU8A29dcy6"
    },
    "kernelspec": {
      "name": "python3",
      "display_name": "Python 3"
    }
  },
  "cells": [
    {
      "cell_type": "markdown",
      "metadata": {
        "id": "m_A85Thw3GZH"
      },
      "source": [
        "##Libraries"
      ]
    },
    {
      "cell_type": "code",
      "metadata": {
        "id": "Z02AIf_L0tsa"
      },
      "source": [
        "#Libraries\n",
        "import matplotlib.pyplot as plt\n",
        "import numpy as np\n",
        "import os\n",
        "import os.path\n",
        "import PIL\n",
        "import random\n",
        "# import cv2\n",
        "from PIL import Image\n",
        "\n",
        "#Torch\n",
        "import torch\n",
        "import torchvision\n",
        "from torchvision import utils\n",
        "from torchvision import models\n",
        "from torchvision import datasets\n",
        "from torchvision import transforms\n",
        "import torch.nn as nn\n",
        "import torch.nn.functional as F\n",
        "import torch.optim as optim"
      ],
      "execution_count": 2,
      "outputs": []
    },
    {
      "cell_type": "markdown",
      "metadata": {
        "id": "Lig8BdUV3ToM"
      },
      "source": [
        "##Create dataset"
      ]
    },
    {
      "cell_type": "code",
      "metadata": {
        "id": "hdxP572K3W70",
        "outputId": "d380ae23-9694-4c8e-f007-0c5ecd94b1c6",
        "colab": {
          "base_uri": "https://localhost:8080/",
          "height": 108
        }
      },
      "source": [
        "#Make dict with all images path & label & image array\n",
        "base_folder = ''\n",
        "motos_cathegory = []\n",
        "for moto in os.listdir(base_folder):\n",
        "    motos_cathegory.append(moto)\n",
        "# motos_cathegory.pop()\n",
        "\n",
        "all_imgs = []\n",
        "for moto in motos_cathegory:\n",
        "    # print(moto)\n",
        "    type_moto_folder = base_folder + '/' + moto\n",
        "    for i, img in enumerate(os.listdir(type_moto_folder)):\n",
        "        path = type_moto_folder + '/' + img\n",
        "        img_dict = {}\n",
        "        img_dict['path'] = path \n",
        "        img_dict['cath'] = moto\n",
        "        for m in motos_cathegory:\n",
        "            img_dict[m] = 0\n",
        "            if m == moto:\n",
        "                img_dict[m] = 1\n",
        "        all_imgs.append(img_dict)\n",
        "\n",
        "#Labels\n",
        "print(motos_cathegory)\n",
        "# all_imgs lenght\n",
        "print(len(all_imgs))\n",
        "\n",
        "# This piece of code return a dict named all_imgs with this structure:\n",
        "    \n",
        "#     {'path':'IMAGE_PATH',\n",
        "#     'cath' : 'MOTO_CATHEGORY',\n",
        "#     'off_road': *, \n",
        "#     'naked': *, \n",
        "#     'scooter': *, \n",
        "#     'scrambler': *, \n",
        "#     'cafe_racer': *, \n",
        "#     'cruiser': *, \n",
        "#     'sport': *, \n",
        "#     'touring': *, \n",
        "#     'bike': *, \n",
        "#     'quad': *\n",
        "#     }\n",
        "\n",
        "# * int (0 or 1) depends on cath"
      ],
      "execution_count": 3,
      "outputs": [
        {
          "output_type": "stream",
          "text": [
            "['off_road', 'naked', 'scooter', 'scrambler', 'cafe_racer', 'cruiser', 'sport', 'touring', 'bike', 'quad']\n",
            "1106\n"
          ],
          "name": "stdout"
        },
        {
          "output_type": "execute_result",
          "data": {
            "application/vnd.google.colaboratory.intrinsic+json": {
              "type": "string"
            },
            "text/plain": [
              "\"\\nThis piece of code return a dict named all_imgs with this structure:\\n    \\n    {'path':'IMAGE_PATH',\\n    'cath' : 'MOTO_CATHEGORY',\\n    'off_road': *, \\n    'naked': *, \\n    'scooter': *, \\n    'scrambler': *, \\n    'cafe_racer': *, \\n    'cruiser': *, \\n    'sport': *, \\n    'touring': *, \\n    'bike': *, \\n    'quad': *\\n    }\\n\\n* int (0 or 1) depends on cath\\n\""
            ]
          },
          "metadata": {
            "tags": []
          },
          "execution_count": 3
        }
      ]
    },
    {
      "cell_type": "code",
      "metadata": {
        "id": "7NVizuv-3iyb"
      },
      "source": [
        "#Randomizing all_imgs list\n",
        "random.shuffle(all_imgs)"
      ],
      "execution_count": 4,
      "outputs": []
    },
    {
      "cell_type": "code",
      "metadata": {
        "id": "j3ze9lU33lUP",
        "outputId": "0a26f52b-1a89-4789-f976-1708ce5b6710",
        "colab": {
          "base_uri": "https://localhost:8080/",
          "height": 277
        }
      },
      "source": [
        "#Show a random imagen inside all_imgs\n",
        "IMG_SIZE=64\n",
        "num=random.randint(0,len(all_imgs)-1)\n",
        "\n",
        "img = Image.open(all_imgs[num]['path']) \n",
        "img.thumbnail((IMG_SIZE, IMG_SIZE))\n",
        "plt.figure()\n",
        "plt.imshow(img)\n",
        "print(all_imgs[num]['cath'])"
      ],
      "execution_count": 5,
      "outputs": [
        {
          "output_type": "stream",
          "text": [
            "bike\n"
          ],
          "name": "stdout"
        },
        {
          "output_type": "display_data",
          "data": {
            "image/png": "[encoded data removed]",
            "text/plain": [
              "<Figure size 432x288 with 1 Axes>"
            ]
          },
          "metadata": {
            "tags": [],
            "needs_background": "light"
          }
        }
      ]
    },
    {
      "cell_type": "code",
      "metadata": {
        "id": "0hXGD6jjYdNE"
      },
      "source": [
        "#Create Dataset\n",
        "def create_dataset(dataset, train_size,data_augmentation=False):\n",
        "    #Image transformations\n",
        "    preprocess = transforms.Compose ([\n",
        "                                transforms.Resize(64),\n",
        "                                transforms.CenterCrop(64),\n",
        "                                transforms.ToTensor(),\n",
        "                                transforms.Normalize(\n",
        "                                    mean = [0.485, 0.456, 0.406],\n",
        "                                    std = [0.229, 0.224, 0.225]\n",
        "                                )\n",
        "    ])\n",
        "\n",
        "    #Image tranformation if Data Augmentation = True\n",
        "    data_augmentation_preprocess = transforms.Compose ([\n",
        "                                    transforms.RandomHorizontalFlip(p=1),\n",
        "    ])\n",
        "\n",
        "    # %train_test = 1  - %train_size  \n",
        "    train_size = train_size\n",
        "    train_num = int(len(dataset)*train_size)\n",
        "    train = dataset[:train_num]\n",
        "    test = dataset[train_num:]\n",
        "    # print(f'len_train = {len(train)}, len_test = {len(test)}')\n",
        "\n",
        "    ##create train dataset##\n",
        "    train_dataset=[]\n",
        "    for image in train:\n",
        "        #Call image\n",
        "        img = Image.open(image['path']).convert('RGB')\n",
        "        #transform image\n",
        "        img_t = preprocess(img)\n",
        "        #Flat image tensor\n",
        "        batch = torch.unsqueeze(img_t, 0)\n",
        "        \n",
        "        #Transform moto_cathegory to a int between 0-9\n",
        "        temp=None\n",
        "        for i,cathegory in enumerate(motos_cathegory):\n",
        "            if image[cathegory] == 1:\n",
        "                temp=i\n",
        "                break\n",
        "        #Append tuple of image in tensor form and moto cathegory\n",
        "        train_dataset.append((batch[0],temp))\n",
        "\n",
        "        #Data Augmentation\n",
        "        if data_augmentation==True:\n",
        "            img_t2 = data_augmentation_preprocess(batch[0])\n",
        "            batch2 = torch.unsqueeze(img_t2, 0)\n",
        "            train_dataset.append((batch2[0], temp))\n",
        "\n",
        "    ##create test dataset##\n",
        "    test_dataset=[]\n",
        "    for image in test:\n",
        "        img = Image.open(image['path']).convert('RGB')\n",
        "        img_t = preprocess(img)\n",
        "        batch = torch.unsqueeze(img_t, 0)\n",
        "\n",
        "        temp=None\n",
        "        for i,cathegory in enumerate(motos_cathegory):\n",
        "            if image[cathegory] == 1:\n",
        "                temp=i\n",
        "                break\n",
        "\n",
        "        test_dataset.append((batch[0],temp))\n",
        "\n",
        "    random.shuffle(train_dataset)\n",
        "    print(f'train_dataset: {len(train_dataset)}, test_dataset: {len(test_dataset)}')\n",
        "    return train_dataset, test_dataset"
      ],
      "execution_count": 6,
      "outputs": []
    },
    {
      "cell_type": "code",
      "metadata": {
        "id": "-BGTDvaRcUgO",
        "outputId": "b914e3fc-74f1-4b33-e9e5-41fa56d16603",
        "colab": {
          "base_uri": "https://localhost:8080/"
        }
      },
      "source": [
        "#Create train and test dataset\n",
        "train_dataset, test_dataset = create_dataset(all_imgs, train_size=0.9, data_augmentation=True)"
      ],
      "execution_count": 8,
      "outputs": [
        {
          "output_type": "stream",
          "text": [
            "/usr/local/lib/python3.6/dist-packages/PIL/Image.py:932: UserWarning: Palette images with Transparency expressed in bytes should be converted to RGBA images\n",
            "  \"Palette images with Transparency expressed in bytes should be \"\n"
          ],
          "name": "stderr"
        },
        {
          "output_type": "stream",
          "text": [
            "train_dataset: 1990, test_dataset: 111\n"
          ],
          "name": "stdout"
        }
      ]
    },
    {
      "cell_type": "markdown",
      "metadata": {
        "id": "JMMR7Pn6dB4B"
      },
      "source": [
        "##Net"
      ]
    },
    {
      "cell_type": "code",
      "metadata": {
        "id": "f_BhBDEMc2_X"
      },
      "source": [
        "#Create Net\n",
        "class Net(nn.Module):\n",
        "    def __init__(self, num_channels):\n",
        "        super(Net,self).__init__()\n",
        "\n",
        "        self.num_channels = num_channels\n",
        "        self.conv1 = nn.Conv2d(3, self.num_channels, 3, stride=1, padding=1)\n",
        "        self.bn1 = nn.BatchNorm2d(self.num_channels)\n",
        "        self.conv2 = nn.Conv2d(self.num_channels, self.num_channels*2, 3, stride=1, padding=1)\n",
        "        self.bn2 = nn.BatchNorm2d(self.num_channels*2)\n",
        "        self.conv3 = nn.Conv2d(self.num_channels*2, self.num_channels*4, 3, stride=1, padding=1)\n",
        "        self.bn3 = nn.BatchNorm2d(self.num_channels*4)\n",
        "\n",
        "        #full conected\n",
        "        self.fc1 =  nn.Linear(self.num_channels*4*4*4*4, self.num_channels*4)\n",
        "        self.fcbn1 =  nn.BatchNorm1d(self.num_channels*4)\n",
        "        self.fc2 =  nn.Linear(self.num_channels*4, 10)\n",
        "\n",
        "    def forward(self, x):\n",
        "            #starts 3x64x64\n",
        "            x = self.bn1(self.conv1(x)) #num_channelsx64x64\n",
        "            x = F.relu(F.max_pool2d(x, 2)) #num_channelsx32x32\n",
        "            x = self.bn2(self.conv2(x)) #num_channels*2x32x32\n",
        "            x = F.relu(F.max_pool2d(x, 2)) #num_channels*2x16x16\n",
        "            x = self.bn3(self.conv3(x)) #num_channels*4x16x16\n",
        "            x = F.relu(F.max_pool2d(x, 2)) #num_channels*4x8x8\n",
        "            #flatten\n",
        "            x = x.view(-1, self.num_channels*4*4*4*4)\n",
        "            # fc\n",
        "            x = self.fc1(x)\n",
        "            x = self.fcbn1(x)\n",
        "            x = F.relu(x)\n",
        "            x = F.dropout(x, p=0.8, training=True)\n",
        "            x = self.fc2(x)\n",
        "\n",
        "            #log_softmax\n",
        "            x = F.log_softmax(x, dim=1)\n",
        "            return x"
      ],
      "execution_count": 9,
      "outputs": []
    },
    {
      "cell_type": "code",
      "metadata": {
        "id": "LOMVJrPyeS6l"
      },
      "source": [
        "#Initializate net\n",
        "net = Net(64)"
      ],
      "execution_count": 10,
      "outputs": []
    },
    {
      "cell_type": "markdown",
      "metadata": {
        "id": "mi-MbAUYe589"
      },
      "source": [
        "##Training"
      ]
    },
    {
      "cell_type": "code",
      "metadata": {
        "id": "SNwt7CxkpqHG"
      },
      "source": [
        "#Trainloader\n",
        "train_dataloader = torch.utils.data.DataLoader(train_dataset, batch_size=8, shuffle=True, num_workers=2)"
      ],
      "execution_count": 11,
      "outputs": []
    },
    {
      "cell_type": "code",
      "metadata": {
        "id": "Sj5jZlBOe7nz"
      },
      "source": [
        "def training(net, train_dataloader, epochs, learning_rate):\n",
        "    #Optimizers\n",
        "    criterion = nn.NLLLoss()\n",
        "    optimizer = optim.SGD(net.parameters(), lr=learning_rate, momentum=0.9)\n",
        "    epochs = epochs\n",
        "    print('Inizializating Training...')\n",
        "    loss=None\n",
        "    for epoch in range(epochs):  # loop over the dataset multiple times\n",
        "        if epoch % 10 == 0:\n",
        "            print(f'epoch = {epoch}')\n",
        "        running_loss = 0.0\n",
        "        for i, data in enumerate(train_dataloader, 0):\n",
        "            # get the inputs; data is a list of [inputs, labels]\n",
        "            inputs, labels = data\n",
        "            # zero the parameter gradients\n",
        "            optimizer.zero_grad()\n",
        "            # forward + backward + optimize\n",
        "            outputs = net(inputs)\n",
        "            loss = criterion(outputs, labels)\n",
        "            loss.backward()\n",
        "            optimizer.step()\n",
        "            # print statistics\n",
        "            running_loss += loss.item()\n",
        "\n",
        "            if (epoch+1) == epochs and i % len(train_dataloader) == 0:\n",
        "                print(f'epoch: {epoch+1} -> loss:{running_loss}')\n",
        "\n",
        "            running_loss = 0.0\n",
        "\n",
        "    print('Finished Training')\n",
        "    return net\n"
      ],
      "execution_count": 12,
      "outputs": []
    },
    {
      "cell_type": "code",
      "metadata": {
        "id": "0UGIB7srAeG0",
        "outputId": "9b0f26e4-edf5-4808-a5d3-77ad07e3200a",
        "colab": {
          "base_uri": "https://localhost:8080/"
        }
      },
      "source": [
        "trained_net = training(net, train_dataloader, 10, 0.01)"
      ],
      "execution_count": 13,
      "outputs": [
        {
          "output_type": "stream",
          "text": [
            "Inizializating Training...\n",
            "epoch = 0\n",
            "epoch: 10 -> loss:1.3704795837402344\n",
            "Finished Training\n"
          ],
          "name": "stdout"
        }
      ]
    },
    {
      "cell_type": "markdown",
      "metadata": {
        "id": "dD2B9GVGjZlx"
      },
      "source": [
        "##Accuracy"
      ]
    },
    {
      "cell_type": "code",
      "metadata": {
        "id": "61Ff95isjeor"
      },
      "source": [
        "#Accuracy\n",
        "def accuracy(net, test_dataset):\n",
        "    #Test dataloader\n",
        "    test_dataloader = torch.utils.data.DataLoader(test_dataset, \n",
        "                                                batch_size=8,\n",
        "                                                shuffle=False, \n",
        "                                                num_workers=2)\n",
        "    correct = 0\n",
        "    total = 0\n",
        "    with torch.no_grad():\n",
        "        for data in test_dataloader:\n",
        "            images, labels = data\n",
        "            outputs = net(images)\n",
        "            _, predicted = torch.max(outputs.data, 1)\n",
        "            total += labels.size(0)\n",
        "            correct += (predicted == labels).sum().item()\n",
        "\n",
        "    print(f'Accuracy of the network on the test images: %d %%' % (\n",
        "        100 * correct / total))"
      ],
      "execution_count": 16,
      "outputs": []
    },
    {
      "cell_type": "code",
      "metadata": {
        "id": "Fje2GYTYDS0n",
        "outputId": "011aae07-578f-436f-a299-992e91ade151",
        "colab": {
          "base_uri": "https://localhost:8080/"
        }
      },
      "source": [
        "accuracy(trained_net, test_dataset)"
      ],
      "execution_count": 17,
      "outputs": [
        {
          "output_type": "stream",
          "text": [
            "Accuracy of the network on the test images: 38 %\n"
          ],
          "name": "stdout"
        }
      ]
    },
    {
      "cell_type": "markdown",
      "metadata": {
        "id": "ipzX3PMWjh3H"
      },
      "source": [
        "### Accuracy by cath"
      ]
    },
    {
      "cell_type": "code",
      "metadata": {
        "id": "Ba1lTiDEjkeM",
        "outputId": "5f48442f-e308-41e3-8a2f-a78b0aebddcc",
        "colab": {
          "base_uri": "https://localhost:8080/"
        }
      },
      "source": [
        "# Accurracy by cathegory\n",
        "test_dataloader = torch.utils.data.DataLoader(test_dataset, \n",
        "                                                batch_size=8,\n",
        "                                                shuffle=False, \n",
        "                                                num_workers=2)\n",
        "\n",
        "class_correct = list(0. for i in range(10))\n",
        "class_total = list(0. for i in range(10))\n",
        "with torch.no_grad():\n",
        "    for data in test_dataloader:\n",
        "        images, labels = data\n",
        "        outputs = net(images)\n",
        "        _, predicted = torch.max(outputs, 1)\n",
        "        c = (predicted == labels).squeeze()\n",
        "        for i in range(3):\n",
        "            label = labels[i]\n",
        "            class_correct[label] += c[i].item()\n",
        "            class_total[label] += 1\n",
        "\n",
        "\n",
        "for i in range(10):\n",
        "    if class_total[i]==0:\n",
        "        print(f'Accuracy of {motos_cathegory[i]} : 0%')\n",
        "    else:\n",
        "        print('Accuracy of %5s : %2d %%' % (\n",
        "            motos_cathegory[i], 100 * class_correct[i] / class_total[i]))"
      ],
      "execution_count": 20,
      "outputs": [
        {
          "output_type": "stream",
          "text": [
            "Accuracy of off_road : 60 %\n",
            "Accuracy of naked :  0 %\n",
            "Accuracy of scooter : 50 %\n",
            "Accuracy of scrambler : 25 %\n",
            "Accuracy of cafe_racer :  0 %\n",
            "Accuracy of cruiser :  0 %\n",
            "Accuracy of sport : 33 %\n",
            "Accuracy of touring : 40 %\n",
            "Accuracy of  bike : 50 %\n",
            "Accuracy of  quad : 50 %\n"
          ],
          "name": "stdout"
        }
      ]
    },
    {
      "cell_type": "markdown",
      "metadata": {
        "id": "3gF2atx3lKQq"
      },
      "source": [
        "##Find best hyperparameters"
      ]
    },
    {
      "cell_type": "code",
      "metadata": {
        "id": "AsaQWFISlPXT"
      },
      "source": [
        "def find_best_params(dataset, hyperparams, data_augmentation=False):\n",
        "    \n",
        "    #Print params\n",
        "    print('-'*30)\n",
        "    for param in hyperparams:\n",
        "        print(f'{param}: {hyperparams[param]}')\n",
        "    print('-'*30)\n",
        "\n",
        "    print(f\"Creating dataset with a training size of: {hyperparams['train_size']}...\")\n",
        "    train_dataset, test_dataset = create_dataset(dataset, hyperparams['train_size'], data_augmentation=False)\n",
        "\n",
        "    #Trainloader\n",
        "    train_dataloader = torch.utils.data.DataLoader(train_dataset, batch_size=hyperparams['batch_size'], shuffle=True, num_workers=2)\n",
        "\n",
        "    print('Calling net...')\n",
        "    net=None\n",
        "    net = Net(64)\n",
        "\n",
        "    #Training net\n",
        "    trained_net = training(net, train_dataloader, hyperparams['epochs'], hyperparams['lr'])\n",
        "    \n",
        "    print('Calculating accuracy...')\n",
        "    accuracy(trained_net, test_dataset)\n",
        "    return trained_net\n",
        "\n"
      ],
      "execution_count": 25,
      "outputs": []
    },
    {
      "cell_type": "code",
      "metadata": {
        "id": "N2fDHSPZlZBv",
        "outputId": "0e9fa268-44c2-4d5b-b50a-9bfb03e49cd1",
        "colab": {
          "base_uri": "https://localhost:8080/"
        }
      },
      "source": [
        "hyperparams={\n",
        "    'lr': 0.025,\n",
        "    'epochs': 1,\n",
        "    'batch_size' : 32,\n",
        "    'train_size' : 0.9\n",
        "}\n",
        "\n",
        "net = find_best_params(all_imgs, hyperparams, True)"
      ],
      "execution_count": 26,
      "outputs": [
        {
          "output_type": "stream",
          "text": [
            "------------------------------\n",
            "lr: 0.025\n",
            "epochs: 1\n",
            "batch_size: 32\n",
            "train_size: 0.9\n",
            "------------------------------\n",
            "Creating dataset with a training size of: 0.9...\n"
          ],
          "name": "stdout"
        },
        {
          "output_type": "stream",
          "text": [
            "/usr/local/lib/python3.6/dist-packages/PIL/Image.py:932: UserWarning: Palette images with Transparency expressed in bytes should be converted to RGBA images\n",
            "  \"Palette images with Transparency expressed in bytes should be \"\n"
          ],
          "name": "stderr"
        },
        {
          "output_type": "stream",
          "text": [
            "train_dataset: 995, test_dataset: 111\n",
            "Calling net...\n",
            "Inizializating Training...\n",
            "epoch = 0\n",
            "epoch: 1 -> loss:2.770188808441162\n",
            "Finished Training\n",
            "Calculatig accuracy...\n",
            "Accuracy of the network on the test images: 17 %\n"
          ],
          "name": "stdout"
        }
      ]
    },
    {
      "cell_type": "markdown",
      "metadata": {
        "id": "yA4Eg-VIkre6"
      },
      "source": [
        "##Testing"
      ]
    },
    {
      "cell_type": "code",
      "metadata": {
        "id": "gqiAm-pQkt0a"
      },
      "source": [
        "def imshow(img):\n",
        "    img = img / 2 + 0.5     # unnormalize\n",
        "    npimg = img.numpy()\n",
        "    plt.imshow(np.transpose(npimg, (1, 2, 0)))\n",
        "    plt.show()"
      ],
      "execution_count": 27,
      "outputs": []
    },
    {
      "cell_type": "code",
      "metadata": {
        "id": "RRzMbfT9ky0J"
      },
      "source": [
        "def test_net_by_batch(dataloader, net, num_imgs=4):\n",
        "    temp=[]\n",
        "    for i in range(num_imgs):\n",
        "        #choose a random image from test_dataset\n",
        "        num=random.randint(0,len(test_dataset)-1)\n",
        "        temp.append(test_dataset[num])\n",
        "\n",
        "    batch_test_dataloader = torch.utils.data.DataLoader(temp, batch_size=num_imgs,\n",
        "                                        shuffle=False, num_workers=2)\n",
        "    dataiter = iter(batch_test_dataloader)\n",
        "    images, labels = dataiter.next()\n",
        "    # print images\n",
        "    imshow(torchvision.utils.make_grid(images))\n",
        "\n",
        "    #Call prediciton\n",
        "    outputs = net(images)\n",
        "    _, predicted = torch.max(outputs, 1)\n",
        "\n",
        "    for i in range(num_imgs):\n",
        "        print(f'Real tag: {motos_cathegory[labels[i]]} | Prediction: {motos_cathegory[predicted[i]]}')"
      ],
      "execution_count": 28,
      "outputs": []
    },
    {
      "cell_type": "code",
      "metadata": {
        "id": "wgF5nroEk1YT",
        "outputId": "832bcc32-6feb-4652-a9a0-a747dd78de2d",
        "colab": {
          "base_uri": "https://localhost:8080/",
          "height": 228
        }
      },
      "source": [
        "test_dataloader = torch.utils.data.DataLoader(test_dataset, \n",
        "                                                batch_size=8,\n",
        "                                                shuffle=False, \n",
        "                                                num_workers=2)\n",
        "#Call testing\n",
        "test_net_by_batch(test_dataloader, net, 5)"
      ],
      "execution_count": 29,
      "outputs": [
        {
          "output_type": "stream",
          "text": [
            "Clipping input data to the valid range for imshow with RGB data ([0..1] for floats or [0..255] for integers).\n"
          ],
          "name": "stderr"
        },
        {
          "output_type": "display_data",
          "data": {
            "image/png": "[encoded data removed]",
            "text/plain": [
              "<Figure size 432x288 with 1 Axes>"
            ]
          },
          "metadata": {
            "tags": [],
            "needs_background": "light"
          }
        },
        {
          "output_type": "stream",
          "text": [
            "Real tag: off_road | Prediction: quad\n",
            "Real tag: bike | Prediction: cafe_racer\n",
            "Real tag: scooter | Prediction: scrambler\n",
            "Real tag: quad | Prediction: sport\n",
            "Real tag: quad | Prediction: off_road\n"
          ],
          "name": "stdout"
        }
      ]
    },
    {
      "cell_type": "markdown",
      "metadata": {
        "id": "KSHErdzcGIXg"
      },
      "source": [
        "##Save model"
      ]
    },
    {
      "cell_type": "code",
      "metadata": {
        "id": "diYMNSP9GEqF"
      },
      "source": [
        "#Save trained model\n",
        "PATH = '/path/model.pth'\n",
        "torch.save(net.state_dict(), PATH)"
      ],
      "execution_count": null,
      "outputs": []
    }
  ]
}